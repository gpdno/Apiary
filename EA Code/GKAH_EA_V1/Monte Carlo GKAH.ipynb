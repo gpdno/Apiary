{
 "cells": [
  {
   "cell_type": "code",
   "execution_count": 1,
   "metadata": {},
   "outputs": [],
   "source": [
    "import pandas as pd\n",
    "import matplotlib.pyplot as plt\n",
    "import random\n",
    "%matplotlib inline"
   ]
  },
  {
   "cell_type": "code",
   "execution_count": 50,
   "metadata": {},
   "outputs": [],
   "source": [
    "WtoL = 75  # Win loss percent\n",
    "risk = 0.0075  # risk per trade\n",
    "commisions = 4.00\n",
    "TP = 3\n",
    "SL = 5"
   ]
  },
  {
   "cell_type": "code",
   "execution_count": 51,
   "metadata": {},
   "outputs": [],
   "source": [
    "columns = ['Account Balance']\n",
    "df = pd.DataFrame(columns=columns)\n",
    "\n",
    "for i in range(1,10001):\n",
    "    Balance = 5000\n",
    "    i = 1\n",
    "    while i < 100:\n",
    "        i += 1\n",
    "        \n",
    "        lot = Balance * risk / SL / 10\n",
    "        fee = lot * commisions\n",
    "        \n",
    "        result = random.randint(1,101)\n",
    "\n",
    "        if result < WtoL:\n",
    "            Balance += (lot * TP * 10) - fee\n",
    "        else:\n",
    "            Balance -= (lot * SL * 10) - fee\n",
    "            \n",
    "    df = df.append({'Account Balance': Balance},ignore_index=True)\n",
    "    mean = df.mean()\n",
    "    std = df.std()"
   ]
  },
  {
   "cell_type": "code",
   "execution_count": 52,
   "metadata": {},
   "outputs": [
    {
     "data": {
      "text/plain": [
       "Account Balance    5532.018682\n",
       "dtype: float64"
      ]
     },
     "execution_count": 52,
     "metadata": {},
     "output_type": "execute_result"
    }
   ],
   "source": [
    "df.mean()"
   ]
  },
  {
   "cell_type": "code",
   "execution_count": 53,
   "metadata": {},
   "outputs": [
    {
     "data": {
      "text/plain": [
       "Account Balance    264.502497\n",
       "dtype: float64"
      ]
     },
     "execution_count": 53,
     "metadata": {},
     "output_type": "execute_result"
    }
   ],
   "source": [
    "df.std()"
   ]
  },
  {
   "cell_type": "code",
   "execution_count": 54,
   "metadata": {},
   "outputs": [
    {
     "data": {
      "image/png": "[encoded data removed]",
      "text/plain": [
       "<Figure size 432x288 with 1 Axes>"
      ]
     },
     "metadata": {
      "needs_background": "light"
     },
     "output_type": "display_data"
    }
   ],
   "source": [
    "hist = df.hist(bins=25)\n",
    "plt.axvline(mean[0], color='g', linestyle='dashed', linewidth=2)\n",
    "plt.axvline((mean[0] + 2*std[0]), color='r', linestyle='dashed', linewidth=2)\n",
    "plt.axvline((mean[0] - 2*std[0]), color='r', linestyle='dashed', linewidth=2)\n",
    "plt.show()"
   ]
  },
  {
   "cell_type": "code",
   "execution_count": null,
   "metadata": {},
   "outputs": [],
   "source": []
  }
 ],
 "metadata": {
  "kernelspec": {
   "display_name": "Python 3",
   "language": "python",
   "name": "python3"
  },
  "language_info": {
   "codemirror_mode": {
    "name": "ipython",
    "version": 3
   },
   "file_extension": ".py",
   "mimetype": "text/x-python",
   "name": "python",
   "nbconvert_exporter": "python",
   "pygments_lexer": "ipython3",
   "version": "3.6.6"
  }
 },
 "nbformat": 4,
 "nbformat_minor": 2
}
