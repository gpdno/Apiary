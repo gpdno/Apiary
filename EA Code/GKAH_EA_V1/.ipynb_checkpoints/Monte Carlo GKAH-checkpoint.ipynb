{
 "cells": [
  {
   "cell_type": "code",
   "execution_count": 1,
   "metadata": {},
   "outputs": [],
   "source": [
    "import pandas as pd\n",
    "import matplotlib.pyplot as plt\n",
    "import random\n",
    "%matplotlib inline"
   ]
  },
  {
   "cell_type": "code",
   "execution_count": 7,
   "metadata": {},
   "outputs": [],
   "source": [
    "WtoL = 71  # Win loss percent\n",
    "risk = 0.0075  # risk per trade\n",
    "commisions = 4.00\n",
    "TP = 3.5\n",
    "SL = 5"
   ]
  },
  {
   "cell_type": "code",
   "execution_count": 8,
   "metadata": {},
   "outputs": [],
   "source": [
    "columns = ['Account Balance']\n",
    "df = pd.DataFrame(columns=columns)\n",
    "\n",
    "for i in range(1,10001):\n",
    "    Balance = 5000\n",
    "    i = 1\n",
    "    while i < 100:\n",
    "        i += 1\n",
    "        \n",
    "        lot = Balance * risk / SL / 10\n",
    "        fee = lot * commisions\n",
    "        \n",
    "        result = random.randint(1,101)\n",
    "\n",
    "        if result < WtoL:\n",
    "            Balance += (lot * TP * 10) - fee\n",
    "        else:\n",
    "            Balance -= (lot * SL * 10) - fee\n",
    "            \n",
    "    df = df.append({'Account Balance': Balance},ignore_index=True)\n",
    "    mean = df.mean()\n",
    "    std = df.std()"
   ]
  },
  {
   "cell_type": "code",
   "execution_count": 9,
   "metadata": {},
   "outputs": [
    {
     "data": {
      "text/plain": [
       "Account Balance    5575.612525\n",
       "dtype: float64"
      ]
     },
     "execution_count": 9,
     "metadata": {},
     "output_type": "execute_result"
    }
   ],
   "source": [
    "df.mean()"
   ]
  },
  {
   "cell_type": "code",
   "execution_count": 10,
   "metadata": {},
   "outputs": [
    {
     "data": {
      "text/plain": [
       "Account Balance    292.348245\n",
       "dtype: float64"
      ]
     },
     "execution_count": 10,
     "metadata": {},
     "output_type": "execute_result"
    }
   ],
   "source": [
    "df.std()"
   ]
  },
  {
   "cell_type": "code",
   "execution_count": 11,
   "metadata": {},
   "outputs": [
    {
     "data": {
      "image/png": "[encoded data removed]",
      "text/plain": [
       "<Figure size 792x504 with 1 Axes>"
      ]
     },
     "metadata": {
      "needs_background": "light"
     },
     "output_type": "display_data"
    }
   ],
   "source": [
    "hist = df.hist(bins=25, figsize = (11,7))\n",
    "plt.axvline(mean[0], color='g', linestyle='dashed', linewidth=2)\n",
    "plt.axvline((mean[0] + std[0]), color='black', linestyle='dashed', linewidth=1)\n",
    "plt.axvline((mean[0] - std[0]), color='black', linestyle='dashed', linewidth=1)\n",
    "plt.axvline((mean[0] + 2*std[0]), color='g', linestyle='dashed', linewidth=2)\n",
    "plt.axvline((mean[0] - 2*std[0]), color='g', linestyle='dashed', linewidth=2)\n",
    "plt.axvline((mean[0] + 3*std[0]), color='black', linestyle='dashed', linewidth=1)\n",
    "plt.axvline((mean[0] - 3*std[0]), color='black', linestyle='dashed', linewidth=1)\n",
    "plt.show()"
   ]
  },
  {
   "cell_type": "code",
   "execution_count": null,
   "metadata": {},
   "outputs": [],
   "source": []
  }
 ],
 "metadata": {
  "kernelspec": {
   "display_name": "Python 3",
   "language": "python",
   "name": "python3"
  },
  "language_info": {
   "codemirror_mode": {
    "name": "ipython",
    "version": 3
   },
   "file_extension": ".py",
   "mimetype": "text/x-python",
   "name": "python",
   "nbconvert_exporter": "python",
   "pygments_lexer": "ipython3",
   "version": "3.6.6"
  }
 },
 "nbformat": 4,
 "nbformat_minor": 2
}
